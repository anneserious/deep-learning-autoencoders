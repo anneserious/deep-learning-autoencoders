{
 "cells": [
  {
   "cell_type": "code",
   "execution_count": 2,
   "metadata": {},
   "outputs": [
    {
     "name": "stderr",
     "output_type": "stream",
     "text": [
      "Using TensorFlow backend.\n"
     ]
    }
   ],
   "source": [
    "from keras.datasets import mnist\n",
    "import numpy as np\n",
    "\n",
    "(x_train, _), (x_test, _) = mnist.load_data()\n",
    "\n",
    "x_train = x_train.astype('float32') / 255.\n",
    "x_test = x_test.astype('float32') / 255.\n",
    "x_train = np.reshape(x_train, (len(x_train), 28, 28, 1))  # adapt this if using `channels_first` image data format\n",
    "x_test = np.reshape(x_test, (len(x_test), 28, 28, 1))  # adapt this if using `channels_first` image data format"
   ]
  },
  {
   "cell_type": "code",
   "execution_count": 31,
   "metadata": {
    "scrolled": true
   },
   "outputs": [
    {
     "name": "stdout",
     "output_type": "stream",
     "text": [
      "['/home/ki/data/exampledata/Paient16.nrrd', '/home/ki/data/exampledata/Pateit12.nrrd', '/home/ki/data/exampledata/Patient11.nrrd', '/home/ki/data/exampledata/Patient14.nrrd', '/home/ki/data/exampledata/Patient15.nrrd', '/home/ki/data/exampledata/Patient17.nrrd']\n",
      "[338 370 242]\n",
      "(338, 370, 242)\n",
      "[332 393 217]\n",
      "(332, 393, 217)\n",
      "[303 392 238]\n",
      "(303, 392, 238)\n",
      "[293 454 295]\n",
      "(293, 454, 295)\n",
      "[315 426 167]\n",
      "(315, 426, 167)\n",
      "[284 394 220]\n",
      "(284, 394, 220)\n",
      "338 454 295\n"
     ]
    }
   ],
   "source": [
    "import os\n",
    "import glob \n",
    "import nrrd\n",
    "import numpy as np\n",
    "\n",
    "parentDir=\"/home/ki/data/exampledata/\"\n",
    "\n",
    "if not os.path.exists(parentDir):\n",
    "\tos.makedirs(parentDir)\n",
    "# extract the zipfile\n",
    "\n",
    "if not False:\n",
    "\tfileList = sorted(glob.glob(parentDir+\"*.nrrd\"))\n",
    "else:\n",
    "\tfileList = sorted(glob.glob(parentDir+\"PrepOuputMoreParticles/cropped/*.nrrd\"))\n",
    "\n",
    "print(fileList)\n",
    "(xmax,ymax,zmax)=(0,0,0)\n",
    "numdata=len(fileList)\n",
    "for filename in fileList:\n",
    "    readdata, header = nrrd.read(filename)\n",
    "    print(header['sizes'])\n",
    "    print(readdata.shape)\n",
    "    xmax=max(xmax,readdata.shape[0])\n",
    "    ymax=max(ymax,readdata.shape[1])\n",
    "    zmax=max(zmax,readdata.shape[2])\n",
    "\n",
    "print(xmax,ymax,zmax)"
   ]
  },
  {
   "cell_type": "code",
   "execution_count": 79,
   "metadata": {
    "scrolled": true
   },
   "outputs": [
    {
     "name": "stdout",
     "output_type": "stream",
     "text": [
      "[338 370 242]\n",
      "(338, 370, 242)\n",
      "padded: (360, 480, 360)\n",
      "[332 393 217]\n",
      "(332, 393, 217)\n",
      "padded: (360, 480, 360)\n",
      "[303 392 238]\n",
      "(303, 392, 238)\n",
      "padded: (360, 480, 360)\n",
      "[293 454 295]\n",
      "(293, 454, 295)\n",
      "padded: (360, 480, 360)\n",
      "[315 426 167]\n",
      "(315, 426, 167)\n",
      "padded: (360, 480, 360)\n",
      "[284 394 220]\n",
      "(284, 394, 220)\n",
      "padded: (360, 480, 360)\n"
     ]
    }
   ],
   "source": [
    "from skimage.transform import downscale_local_mean\n",
    "\n",
    "\n",
    "xmax=360\n",
    "ymax=480\n",
    "zmax=360\n",
    "\n",
    "mydata=np.zeros((numdata,xmax,ymax,zmax))\n",
    "mysmalldata=np.zeros((numdata,36,48,36,1))\n",
    "\n",
    "index=0\n",
    "for filename in fileList:\n",
    "    readdata, header = nrrd.read(filename)\n",
    "    print(header['sizes'])\n",
    "    print(readdata.shape)\n",
    "    xpad=xmax- readdata.shape[0]\n",
    "    xpad1=int(xpad/2)\n",
    "    xpad2=xpad1 if  xpad1==xpad/2.0 else xpad1+1\n",
    "    \n",
    "    ypad=ymax- readdata.shape[1]\n",
    "    ypad1=int(ypad/2)\n",
    "    ypad2=ypad1 if  ypad1==ypad/2.0 else ypad1+1\n",
    "    \n",
    "    zpad=zmax- readdata.shape[2]\n",
    "    zpad1=int(zpad/2)\n",
    "    zpad2=zpad1 if  zpad1==zpad/2.0 else zpad1+1\n",
    "    \n",
    "    paddeddata=np.pad(readdata,((xpad1,xpad2),(ypad1,ypad2),(zpad1,zpad2)),mode='constant')\n",
    "    \n",
    "    transformeddata=downscale_local_mean(paddeddata,(10,10,10))\n",
    "    tdata=np.reshape(transformeddata,(36,48,36,1))\n",
    "\n",
    "    \n",
    "    mydata[index,:,:,:]=paddeddata\n",
    "    mysmalldata[index,:,:,:]=tdata\n",
    "    index+=1\n",
    "    print(\"padded:\",paddeddata.shape)\n",
    "\n"
   ]
  },
  {
   "cell_type": "code",
   "execution_count": 88,
   "metadata": {},
   "outputs": [
    {
     "data": {
      "image/png": "[encoded data removed]",
      "text/plain": [
       "<Figure size 1440x288 with 6 Axes>"
      ]
     },
     "metadata": {
      "needs_background": "light"
     },
     "output_type": "display_data"
    }
   ],
   "source": [
    "import matplotlib.pyplot as plt\n",
    "\n",
    "n = numdata  # how many images we will display\n",
    "plt.figure(figsize=(20, 4))\n",
    "slice=10\n",
    "for i in range(n):\n",
    "    # display original\n",
    "    ax = plt.subplot(2, n, i + 1)\n",
    "    plt.imshow(mysmalldata[i,:,:,slice,0])\n",
    "    plt.gray()\n",
    "    ax.get_xaxis().set_visible(False)\n",
    "    ax.get_yaxis().set_visible(False)\n",
    "    \n",
    "slice=15\n",
    "for i in range(n):\n",
    "    # display original\n",
    "    plt.imshow(mysmalldata[i,:,:,slice,0])\n",
    "    plt.gray()\n",
    "    ax.get_xaxis().set_visible(False)\n",
    "    ax.get_yaxis().set_visible(False)\n",
    "\n",
    "\n",
    "plt.show()"
   ]
  },
  {
   "cell_type": "code",
   "execution_count": 106,
   "metadata": {
    "scrolled": false
   },
   "outputs": [],
   "source": [
    "from keras.layers import Input, Dense, Conv3D, MaxPooling3D, UpSampling3D\n",
    "from keras.models import Model\n",
    "from keras import backend as K\n",
    "\n",
    "input_img = Input(shape=(36, 48, 36,1))  # adapt this if using `channels_first` image data format\n",
    "\n",
    "x = Conv3D(16, (3, 3,3), activation='relu', padding='same')(input_img)\n",
    "x = MaxPooling3D((2, 2,2), padding='same')(x)\n",
    "x = Conv3D(8, (3, 3,3), activation='relu', padding='same')(x)\n",
    "x = MaxPooling3D((2, 2,2), padding='same')(x)\n",
    "x = Conv3D(8, (3, 3,3), activation='relu', padding='same')(x)\n",
    "encoded = MaxPooling3D((1, 1,1), padding='same')(x)\n",
    "\n",
    "# at this point the representation is (4, 4, 8) i.e. 128-dimensional\n",
    "\n",
    "x = Conv3D(8, (3, 3,3), activation='relu', padding='same')(encoded)\n",
    "x = UpSampling3D((2, 2,2))(x)\n",
    "x = Conv3D(8, (3, 3,3), activation='relu', padding='same')(x)\n",
    "x = UpSampling3D((2, 2,2))(x)\n",
    "decoded = Conv3D(1, (3, 3,3), activation='relu',padding='same')(x)\n",
    "#x = UpSampling3D((2, 2,2))(x)\n",
    "#decoded = Conv3D(1, (3, 3,3), activation='sigmoid', padding='same')(x)\n",
    "\n",
    "autoencoder = Model(input_img, decoded)\n",
    "autoencoder.compile(optimizer='adadelta', loss='binary_crossentropy')"
   ]
  },
  {
   "cell_type": "code",
   "execution_count": 112,
   "metadata": {},
   "outputs": [
    {
     "name": "stdout",
     "output_type": "stream",
     "text": [
      "Epoch 1/20\n",
      "6/6 [==============================] - 3s 467ms/step - loss: 0.4066\n",
      "Epoch 2/20\n",
      "6/6 [==============================] - 0s 43ms/step - loss: 0.1627\n",
      "Epoch 3/20\n",
      "6/6 [==============================] - 0s 45ms/step - loss: 0.1564\n",
      "Epoch 4/20\n",
      "6/6 [==============================] - 0s 38ms/step - loss: 0.1533\n",
      "Epoch 5/20\n",
      "6/6 [==============================] - 0s 42ms/step - loss: 0.1507\n",
      "Epoch 6/20\n",
      "6/6 [==============================] - 0s 44ms/step - loss: 0.1483\n",
      "Epoch 7/20\n",
      "6/6 [==============================] - 0s 44ms/step - loss: 0.1460\n",
      "Epoch 8/20\n",
      "6/6 [==============================] - 0s 41ms/step - loss: 0.1438\n",
      "Epoch 9/20\n",
      "6/6 [==============================] - 0s 46ms/step - loss: 0.1417\n",
      "Epoch 10/20\n",
      "6/6 [==============================] - 0s 37ms/step - loss: 0.1397\n",
      "Epoch 11/20\n",
      "6/6 [==============================] - 0s 40ms/step - loss: 0.1377\n",
      "Epoch 12/20\n",
      "6/6 [==============================] - 0s 38ms/step - loss: 0.1358\n",
      "Epoch 13/20\n",
      "6/6 [==============================] - 0s 49ms/step - loss: 0.1338\n",
      "Epoch 14/20\n",
      "6/6 [==============================] - 0s 46ms/step - loss: 0.1320\n",
      "Epoch 15/20\n",
      "6/6 [==============================] - 0s 37ms/step - loss: 0.1302\n",
      "Epoch 16/20\n",
      "6/6 [==============================] - 0s 45ms/step - loss: 0.1283\n",
      "Epoch 17/20\n",
      "6/6 [==============================] - 0s 48ms/step - loss: 0.1265\n",
      "Epoch 18/20\n",
      "6/6 [==============================] - 0s 43ms/step - loss: 0.1247\n",
      "Epoch 19/20\n",
      "6/6 [==============================] - 0s 41ms/step - loss: 0.1229\n",
      "Epoch 20/20\n",
      "6/6 [==============================] - 0s 47ms/step - loss: 0.1212\n"
     ]
    },
    {
     "data": {
      "text/plain": [
       "<keras.callbacks.History at 0x7f27a4dff6d0>"
      ]
     },
     "execution_count": 112,
     "metadata": {},
     "output_type": "execute_result"
    }
   ],
   "source": [
    "autoencoder.fit(mysmalldata, mysmalldata,\n",
    "                epochs=20,\n",
    "                batch_size=128,\n",
    "                shuffle=True)"
   ]
  },
  {
   "cell_type": "code",
   "execution_count": 108,
   "metadata": {},
   "outputs": [
    {
     "name": "stdout",
     "output_type": "stream",
     "text": [
      "_________________________________________________________________\n",
      "Layer (type)                 Output Shape              Param #   \n",
      "=================================================================\n",
      "input_10 (InputLayer)        (None, 36, 48, 36, 1)     0         \n",
      "_________________________________________________________________\n",
      "conv3d_35 (Conv3D)           (None, 36, 48, 36, 16)    448       \n",
      "_________________________________________________________________\n",
      "max_pooling3d_16 (MaxPooling (None, 18, 24, 18, 16)    0         \n",
      "_________________________________________________________________\n",
      "conv3d_36 (Conv3D)           (None, 18, 24, 18, 8)     3464      \n",
      "_________________________________________________________________\n",
      "max_pooling3d_17 (MaxPooling (None, 9, 12, 9, 8)       0         \n",
      "_________________________________________________________________\n",
      "conv3d_37 (Conv3D)           (None, 9, 12, 9, 8)       1736      \n",
      "_________________________________________________________________\n",
      "max_pooling3d_18 (MaxPooling (None, 9, 12, 9, 8)       0         \n",
      "_________________________________________________________________\n",
      "conv3d_38 (Conv3D)           (None, 9, 12, 9, 8)       1736      \n",
      "_________________________________________________________________\n",
      "up_sampling3d_14 (UpSampling (None, 18, 24, 18, 8)     0         \n",
      "_________________________________________________________________\n",
      "conv3d_39 (Conv3D)           (None, 18, 24, 18, 8)     1736      \n",
      "_________________________________________________________________\n",
      "up_sampling3d_15 (UpSampling (None, 36, 48, 36, 8)     0         \n",
      "_________________________________________________________________\n",
      "conv3d_40 (Conv3D)           (None, 36, 48, 36, 1)     217       \n",
      "=================================================================\n",
      "Total params: 9,337\n",
      "Trainable params: 9,337\n",
      "Non-trainable params: 0\n",
      "_________________________________________________________________\n"
     ]
    }
   ],
   "source": [
    "autoencoder.summary()"
   ]
  },
  {
   "cell_type": "code",
   "execution_count": 111,
   "metadata": {},
   "outputs": [
    {
     "data": {
      "text/plain": [
       "(6, 36, 48, 36, 1)"
      ]
     },
     "execution_count": 111,
     "metadata": {},
     "output_type": "execute_result"
    }
   ],
   "source": [
    "mysmalldata.shape"
   ]
  },
  {
   "cell_type": "code",
   "execution_count": 1,
   "metadata": {},
   "outputs": [
    {
     "ename": "NameError",
     "evalue": "name 'x_test' is not defined",
     "output_type": "error",
     "traceback": [
      "\u001b[0;31m---------------------------------------------------------------------------\u001b[0m",
      "\u001b[0;31mNameError\u001b[0m                                 Traceback (most recent call last)",
      "\u001b[0;32m<ipython-input-1-634e7c7cc1c7>\u001b[0m in \u001b[0;36m<module>\u001b[0;34m\u001b[0m\n\u001b[1;32m      7\u001b[0m     \u001b[0;31m# display original\u001b[0m\u001b[0;34m\u001b[0m\u001b[0;34m\u001b[0m\u001b[0;34m\u001b[0m\u001b[0m\n\u001b[1;32m      8\u001b[0m     \u001b[0max\u001b[0m \u001b[0;34m=\u001b[0m \u001b[0mplt\u001b[0m\u001b[0;34m.\u001b[0m\u001b[0msubplot\u001b[0m\u001b[0;34m(\u001b[0m\u001b[0;36m2\u001b[0m\u001b[0;34m,\u001b[0m \u001b[0mn\u001b[0m\u001b[0;34m,\u001b[0m \u001b[0mi\u001b[0m \u001b[0;34m+\u001b[0m \u001b[0;36m1\u001b[0m\u001b[0;34m)\u001b[0m\u001b[0;34m\u001b[0m\u001b[0;34m\u001b[0m\u001b[0m\n\u001b[0;32m----> 9\u001b[0;31m     \u001b[0mplt\u001b[0m\u001b[0;34m.\u001b[0m\u001b[0mimshow\u001b[0m\u001b[0;34m(\u001b[0m\u001b[0mx_test\u001b[0m\u001b[0;34m[\u001b[0m\u001b[0mi\u001b[0m\u001b[0;34m]\u001b[0m\u001b[0;34m.\u001b[0m\u001b[0mreshape\u001b[0m\u001b[0;34m(\u001b[0m\u001b[0;36m28\u001b[0m\u001b[0;34m,\u001b[0m \u001b[0;36m28\u001b[0m\u001b[0;34m)\u001b[0m\u001b[0;34m)\u001b[0m\u001b[0;34m\u001b[0m\u001b[0;34m\u001b[0m\u001b[0m\n\u001b[0m\u001b[1;32m     10\u001b[0m     \u001b[0mplt\u001b[0m\u001b[0;34m.\u001b[0m\u001b[0mgray\u001b[0m\u001b[0;34m(\u001b[0m\u001b[0;34m)\u001b[0m\u001b[0;34m\u001b[0m\u001b[0;34m\u001b[0m\u001b[0m\n\u001b[1;32m     11\u001b[0m     \u001b[0max\u001b[0m\u001b[0;34m.\u001b[0m\u001b[0mget_xaxis\u001b[0m\u001b[0;34m(\u001b[0m\u001b[0;34m)\u001b[0m\u001b[0;34m.\u001b[0m\u001b[0mset_visible\u001b[0m\u001b[0;34m(\u001b[0m\u001b[0;32mFalse\u001b[0m\u001b[0;34m)\u001b[0m\u001b[0;34m\u001b[0m\u001b[0;34m\u001b[0m\u001b[0m\n",
      "\u001b[0;31mNameError\u001b[0m: name 'x_test' is not defined"
     ]
    }
   ],
   "source": [
    "# use Matplotlib (don't ask)\n",
    "import matplotlib.pyplot as plt\n",
    "\n",
    "n = 10  # how many digits we will display\n",
    "plt.figure(figsize=(20, 4))\n",
    "for i in range(n):\n",
    "    # display original\n",
    "    ax = plt.subplot(2, n, i + 1)\n",
    "    plt.imshow(x_test[i].reshape(28, 28))\n",
    "    plt.gray()\n",
    "    ax.get_xaxis().set_visible(False)\n",
    "    ax.get_yaxis().set_visible(False)\n",
    "\n",
    "    # display reconstruction\n",
    "    ax = plt.subplot(2, n, i + 1 + n)\n",
    "    plt.imshow(decoded_imgs[i].reshape(28, 28))\n",
    "    plt.gray()\n",
    "    ax.get_xaxis().set_visible(False)\n",
    "    ax.get_yaxis().set_visible(False)\n",
    "plt.show()"
   ]
  },
  {
   "cell_type": "code",
   "execution_count": 116,
   "metadata": {},
   "outputs": [
    {
     "data": {
      "image/png": "[encoded data removed]",
      "text/plain": [
       "<Figure size 1440x288 with 12 Axes>"
      ]
     },
     "metadata": {
      "needs_background": "light"
     },
     "output_type": "display_data"
    }
   ],
   "source": [
    "# encode and decode some images\n",
    "# note that we take them from the *test* set\n",
    "decoded_imgs = autoencoder.predict(mysmalldata)\n",
    "\n",
    "\n",
    "n = numdata  # how many images we will display\n",
    "plt.figure(figsize=(20, 4))\n",
    "slice=20\n",
    "for i in range(n):\n",
    "    # display original\n",
    "    ax = plt.subplot(2, n, i + 1)\n",
    "    plt.imshow(mysmalldata[i,:,:,slice,0])\n",
    "    plt.gray()\n",
    "    ax.get_xaxis().set_visible(False)\n",
    "    ax.get_yaxis().set_visible(False)\n",
    "    \n",
    "    ax = plt.subplot(2, n, i + 1 + n)\n",
    "    plt.imshow(decoded_imgs[i,:,:,slice,0])\n",
    "    plt.gray()\n",
    "    ax.get_xaxis().set_visible(False)\n",
    "    ax.get_yaxis().set_visible(False)\n",
    "    \n",
    "    \n",
    "\n",
    "\n",
    "plt.show()"
   ]
  },
  {
   "cell_type": "code",
   "execution_count": null,
   "metadata": {},
   "outputs": [],
   "source": []
  }
 ],
 "metadata": {
  "kernelspec": {
   "display_name": "deep-learning",
   "language": "python",
   "name": "deep-learning"
  },
  "language_info": {
   "codemirror_mode": {
    "name": "ipython",
    "version": 3
   },
   "file_extension": ".py",
   "mimetype": "text/x-python",
   "name": "python",
   "nbconvert_exporter": "python",
   "pygments_lexer": "ipython3",
   "version": "3.7.4"
  }
 },
 "nbformat": 4,
 "nbformat_minor": 2
}
