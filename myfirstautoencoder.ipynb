{
 "cells": [
  {
   "cell_type": "code",
   "execution_count": 2,
   "metadata": {},
   "outputs": [
    {
     "name": "stderr",
     "output_type": "stream",
     "text": [
      "Using TensorFlow backend.\n"
     ]
    },
    {
     "name": "stdout",
     "output_type": "stream",
     "text": [
      "Downloading data from https://s3.amazonaws.com/img-datasets/mnist.npz\n",
      "11493376/11490434 [==============================] - 3s 0us/step\n"
     ]
    }
   ],
   "source": [
    "from keras.datasets import mnist\n",
    "import numpy as np\n",
    "\n",
    "(x_train, _), (x_test, _) = mnist.load_data()\n",
    "\n",
    "x_train = x_train.astype('float32') / 255.\n",
    "x_test = x_test.astype('float32') / 255.\n",
    "x_train = np.reshape(x_train, (len(x_train), 28, 28, 1))  # adapt this if using `channels_first` image data format\n",
    "x_test = np.reshape(x_test, (len(x_test), 28, 28, 1))  # adapt this if using `channels_first` image data format"
   ]
  },
  {
   "cell_type": "code",
   "execution_count": 13,
   "metadata": {},
   "outputs": [
    {
     "data": {
      "text/plain": [
       "(60000, 28, 28, 1)"
      ]
     },
     "execution_count": 13,
     "metadata": {},
     "output_type": "execute_result"
    }
   ],
   "source": [
    "x_train.shape"
   ]
  },
  {
   "cell_type": "code",
   "execution_count": 3,
   "metadata": {},
   "outputs": [
    {
     "name": "stdout",
     "output_type": "stream",
     "text": [
      "WARNING:tensorflow:From /home/ki/anaconda3/envs/deep-learning/lib/python3.7/site-packages/keras/backend/tensorflow_backend.py:74: The name tf.get_default_graph is deprecated. Please use tf.compat.v1.get_default_graph instead.\n",
      "\n",
      "WARNING:tensorflow:From /home/ki/anaconda3/envs/deep-learning/lib/python3.7/site-packages/keras/backend/tensorflow_backend.py:517: The name tf.placeholder is deprecated. Please use tf.compat.v1.placeholder instead.\n",
      "\n",
      "WARNING:tensorflow:From /home/ki/anaconda3/envs/deep-learning/lib/python3.7/site-packages/keras/backend/tensorflow_backend.py:4138: The name tf.random_uniform is deprecated. Please use tf.random.uniform instead.\n",
      "\n",
      "WARNING:tensorflow:From /home/ki/anaconda3/envs/deep-learning/lib/python3.7/site-packages/keras/backend/tensorflow_backend.py:3976: The name tf.nn.max_pool is deprecated. Please use tf.nn.max_pool2d instead.\n",
      "\n",
      "WARNING:tensorflow:From /home/ki/anaconda3/envs/deep-learning/lib/python3.7/site-packages/keras/backend/tensorflow_backend.py:2018: The name tf.image.resize_nearest_neighbor is deprecated. Please use tf.compat.v1.image.resize_nearest_neighbor instead.\n",
      "\n",
      "WARNING:tensorflow:From /home/ki/anaconda3/envs/deep-learning/lib/python3.7/site-packages/keras/optimizers.py:790: The name tf.train.Optimizer is deprecated. Please use tf.compat.v1.train.Optimizer instead.\n",
      "\n",
      "WARNING:tensorflow:From /home/ki/anaconda3/envs/deep-learning/lib/python3.7/site-packages/keras/backend/tensorflow_backend.py:3376: The name tf.log is deprecated. Please use tf.math.log instead.\n",
      "\n",
      "WARNING:tensorflow:From /home/ki/anaconda3/envs/deep-learning/lib/python3.7/site-packages/tensorflow/python/ops/nn_impl.py:180: add_dispatch_support.<locals>.wrapper (from tensorflow.python.ops.array_ops) is deprecated and will be removed in a future version.\n",
      "Instructions for updating:\n",
      "Use tf.where in 2.0, which has the same broadcast rule as np.where\n"
     ]
    }
   ],
   "source": [
    "from keras.layers import Input, Dense, Conv2D, MaxPooling2D, UpSampling2D\n",
    "from keras.models import Model\n",
    "from keras import backend as K\n",
    "\n",
    "input_img = Input(shape=(28, 28, 1))  # adapt this if using `channels_first` image data format\n",
    "\n",
    "x = Conv2D(16, (3, 3), activation='relu', padding='same')(input_img)\n",
    "x = MaxPooling2D((2, 2), padding='same')(x)\n",
    "x = Conv2D(8, (3, 3), activation='relu', padding='same')(x)\n",
    "x = MaxPooling2D((2, 2), padding='same')(x)\n",
    "x = Conv2D(8, (3, 3), activation='relu', padding='same')(x)\n",
    "encoded = MaxPooling2D((2, 2), padding='same')(x)\n",
    "\n",
    "# at this point the representation is (4, 4, 8) i.e. 128-dimensional\n",
    "\n",
    "x = Conv2D(8, (3, 3), activation='relu', padding='same')(encoded)\n",
    "x = UpSampling2D((2, 2))(x)\n",
    "x = Conv2D(8, (3, 3), activation='relu', padding='same')(x)\n",
    "x = UpSampling2D((2, 2))(x)\n",
    "x = Conv2D(16, (3, 3), activation='relu')(x)\n",
    "x = UpSampling2D((2, 2))(x)\n",
    "decoded = Conv2D(1, (3, 3), activation='sigmoid', padding='same')(x)\n",
    "\n",
    "autoencoder = Model(input_img, decoded)\n",
    "autoencoder.compile(optimizer='adadelta', loss='binary_crossentropy')"
   ]
  },
  {
   "cell_type": "code",
   "execution_count": 5,
   "metadata": {
    "scrolled": false
   },
   "outputs": [
    {
     "name": "stdout",
     "output_type": "stream",
     "text": [
      "WARNING:tensorflow:From /home/ki/anaconda3/envs/deep-learning/lib/python3.7/site-packages/keras/backend/tensorflow_backend.py:986: The name tf.assign_add is deprecated. Please use tf.compat.v1.assign_add instead.\n",
      "\n",
      "Train on 60000 samples, validate on 10000 samples\n",
      "Epoch 1/50\n",
      "60000/60000 [==============================] - 30s 492us/step - loss: 0.2124 - val_loss: 0.1615\n",
      "Epoch 2/50\n",
      "60000/60000 [==============================] - 31s 521us/step - loss: 0.1554 - val_loss: 0.1452\n",
      "Epoch 3/50\n",
      "60000/60000 [==============================] - 32s 531us/step - loss: 0.1420 - val_loss: 0.1376\n",
      "Epoch 4/50\n",
      "60000/60000 [==============================] - 35s 586us/step - loss: 0.1335 - val_loss: 0.1354\n",
      "Epoch 5/50\n",
      "60000/60000 [==============================] - 42s 706us/step - loss: 0.1280 - val_loss: 0.1227\n",
      "Epoch 6/50\n",
      "60000/60000 [==============================] - 43s 713us/step - loss: 0.1243 - val_loss: 0.1207\n",
      "Epoch 7/50\n",
      "60000/60000 [==============================] - 42s 706us/step - loss: 0.1215 - val_loss: 0.1232\n",
      "Epoch 8/50\n",
      "60000/60000 [==============================] - 81s 1ms/step - loss: 0.1197 - val_loss: 0.1162\n",
      "Epoch 9/50\n",
      "60000/60000 [==============================] - 53s 882us/step - loss: 0.1178 - val_loss: 0.1166\n",
      "Epoch 10/50\n",
      "60000/60000 [==============================] - 58s 972us/step - loss: 0.1165 - val_loss: 0.1148\n",
      "Epoch 11/50\n",
      "60000/60000 [==============================] - 33s 543us/step - loss: 0.1153 - val_loss: 0.1132\n",
      "Epoch 12/50\n",
      "60000/60000 [==============================] - 28s 470us/step - loss: 0.1142 - val_loss: 0.1124\n",
      "Epoch 13/50\n",
      "60000/60000 [==============================] - 23s 389us/step - loss: 0.1135 - val_loss: 0.1105\n",
      "Epoch 14/50\n",
      "60000/60000 [==============================] - 22s 358us/step - loss: 0.1127 - val_loss: 0.1097\n",
      "Epoch 15/50\n",
      "60000/60000 [==============================] - 22s 368us/step - loss: 0.1118 - val_loss: 0.1114\n",
      "Epoch 16/50\n",
      "60000/60000 [==============================] - 22s 363us/step - loss: 0.1108 - val_loss: 0.1075\n",
      "Epoch 17/50\n",
      "60000/60000 [==============================] - 22s 359us/step - loss: 0.1103 - val_loss: 0.1107\n",
      "Epoch 18/50\n",
      "60000/60000 [==============================] - 22s 361us/step - loss: 0.1095 - val_loss: 0.1072\n",
      "Epoch 19/50\n",
      "60000/60000 [==============================] - 23s 377us/step - loss: 0.1090 - val_loss: 0.1093\n",
      "Epoch 20/50\n",
      "60000/60000 [==============================] - 22s 360us/step - loss: 0.1088 - val_loss: 0.1061\n",
      "Epoch 21/50\n",
      "60000/60000 [==============================] - 22s 361us/step - loss: 0.1082 - val_loss: 0.1072\n",
      "Epoch 22/50\n",
      "60000/60000 [==============================] - 21s 356us/step - loss: 0.1077 - val_loss: 0.1030\n",
      "Epoch 23/50\n",
      "60000/60000 [==============================] - 22s 362us/step - loss: 0.1071 - val_loss: 0.1059\n",
      "Epoch 24/50\n",
      "60000/60000 [==============================] - 21s 357us/step - loss: 0.1070 - val_loss: 0.1066\n",
      "Epoch 25/50\n",
      "60000/60000 [==============================] - 21s 358us/step - loss: 0.1065 - val_loss: 0.1043\n",
      "Epoch 26/50\n",
      "60000/60000 [==============================] - 22s 359us/step - loss: 0.1062 - val_loss: 0.1032\n",
      "Epoch 27/50\n",
      "60000/60000 [==============================] - 25s 418us/step - loss: 0.1058 - val_loss: 0.1048\n",
      "Epoch 28/50\n",
      "60000/60000 [==============================] - 23s 377us/step - loss: 0.1056 - val_loss: 0.1021\n",
      "Epoch 29/50\n",
      "60000/60000 [==============================] - 24s 407us/step - loss: 0.1052 - val_loss: 0.1018\n",
      "Epoch 30/50\n",
      "60000/60000 [==============================] - 25s 420us/step - loss: 0.1048 - val_loss: 0.1031\n",
      "Epoch 31/50\n",
      "60000/60000 [==============================] - 24s 396us/step - loss: 0.1046 - val_loss: 0.1013\n",
      "Epoch 32/50\n",
      "60000/60000 [==============================] - 23s 381us/step - loss: 0.1043 - val_loss: 0.1040\n",
      "Epoch 33/50\n",
      "60000/60000 [==============================] - 28s 460us/step - loss: 0.1040 - val_loss: 0.1014\n",
      "Epoch 34/50\n",
      "60000/60000 [==============================] - 47s 784us/step - loss: 0.1039 - val_loss: 0.1048\n",
      "Epoch 35/50\n",
      "60000/60000 [==============================] - 28s 468us/step - loss: 0.1036 - val_loss: 0.1026\n",
      "Epoch 36/50\n",
      "60000/60000 [==============================] - 26s 437us/step - loss: 0.1037 - val_loss: 0.1005\n",
      "Epoch 37/50\n",
      "60000/60000 [==============================] - 30s 499us/step - loss: 0.1034 - val_loss: 0.1030\n",
      "Epoch 38/50\n",
      "60000/60000 [==============================] - 28s 465us/step - loss: 0.1033 - val_loss: 0.1007\n",
      "Epoch 39/50\n",
      "60000/60000 [==============================] - 25s 416us/step - loss: 0.1030 - val_loss: 0.1019\n",
      "Epoch 40/50\n",
      "60000/60000 [==============================] - 25s 420us/step - loss: 0.1030 - val_loss: 0.1005\n",
      "Epoch 41/50\n",
      "60000/60000 [==============================] - 25s 416us/step - loss: 0.1027 - val_loss: 0.1001\n",
      "Epoch 42/50\n",
      "60000/60000 [==============================] - 23s 388us/step - loss: 0.1023 - val_loss: 0.1014\n",
      "Epoch 43/50\n",
      "60000/60000 [==============================] - 23s 390us/step - loss: 0.1021 - val_loss: 0.0998\n",
      "Epoch 44/50\n",
      "60000/60000 [==============================] - 21s 354us/step - loss: 0.1022 - val_loss: 0.0990\n",
      "Epoch 45/50\n",
      "60000/60000 [==============================] - 22s 362us/step - loss: 0.1018 - val_loss: 0.1020\n",
      "Epoch 46/50\n",
      "60000/60000 [==============================] - 21s 358us/step - loss: 0.1016 - val_loss: 0.1009\n",
      "Epoch 47/50\n",
      "60000/60000 [==============================] - 21s 354us/step - loss: 0.1016 - val_loss: 0.1012\n",
      "Epoch 48/50\n",
      "60000/60000 [==============================] - 21s 354us/step - loss: 0.1016 - val_loss: 0.0987\n",
      "Epoch 49/50\n",
      "60000/60000 [==============================] - 22s 368us/step - loss: 0.1014 - val_loss: 0.0988\n",
      "Epoch 50/50\n",
      "60000/60000 [==============================] - 21s 358us/step - loss: 0.1012 - val_loss: 0.1031\n"
     ]
    },
    {
     "data": {
      "text/plain": [
       "<keras.callbacks.History at 0x7f5ee2dbe7d0>"
      ]
     },
     "execution_count": 5,
     "metadata": {},
     "output_type": "execute_result"
    }
   ],
   "source": [
    "autoencoder.fit(x_train, x_train,\n",
    "                epochs=50,\n",
    "                batch_size=128,\n",
    "                shuffle=True,\n",
    "                validation_data=(x_test, x_test))"
   ]
  },
  {
   "cell_type": "code",
   "execution_count": 12,
   "metadata": {},
   "outputs": [
    {
     "data": {
      "image/png": "[encoded data removed]",
      "text/plain": [
       "<Figure size 1440x288 with 20 Axes>"
      ]
     },
     "metadata": {
      "needs_background": "light"
     },
     "output_type": "display_data"
    }
   ],
   "source": [
    "# use Matplotlib (don't ask)\n",
    "import matplotlib.pyplot as plt\n",
    "\n",
    "n = 10  # how many digits we will display\n",
    "plt.figure(figsize=(20, 4))\n",
    "for i in range(n):\n",
    "    # display original\n",
    "    ax = plt.subplot(2, n, i + 1)\n",
    "    plt.imshow(x_test[i].reshape(28, 28))\n",
    "    plt.gray()\n",
    "    ax.get_xaxis().set_visible(False)\n",
    "    ax.get_yaxis().set_visible(False)\n",
    "\n",
    "    # display reconstruction\n",
    "    ax = plt.subplot(2, n, i + 1 + n)\n",
    "    plt.imshow(decoded_imgs[i].reshape(28, 28))\n",
    "    plt.gray()\n",
    "    ax.get_xaxis().set_visible(False)\n",
    "    ax.get_yaxis().set_visible(False)\n",
    "plt.show()"
   ]
  },
  {
   "cell_type": "code",
   "execution_count": 11,
   "metadata": {},
   "outputs": [],
   "source": [
    "# encode and decode some digits\n",
    "# note that we take them from the *test* set\n",
    "decoded_imgs = autoencoder.predict(x_test)\n"
   ]
  },
  {
   "cell_type": "code",
   "execution_count": null,
   "metadata": {},
   "outputs": [],
   "source": []
  }
 ],
 "metadata": {
  "kernelspec": {
   "display_name": "deep-learning",
   "language": "python",
   "name": "deep-learning"
  },
  "language_info": {
   "codemirror_mode": {
    "name": "ipython",
    "version": 3
   },
   "file_extension": ".py",
   "mimetype": "text/x-python",
   "name": "python",
   "nbconvert_exporter": "python",
   "pygments_lexer": "ipython3",
   "version": "3.7.4"
  }
 },
 "nbformat": 4,
 "nbformat_minor": 2
}
